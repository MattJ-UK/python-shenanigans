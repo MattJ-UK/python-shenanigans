{
 "cells": [
  {
   "cell_type": "code",
   "execution_count": 285,
   "metadata": {},
   "outputs": [
    {
     "data": {
      "text/html": [
       "<style>.container { width:99% !important; }</style>"
      ],
      "text/plain": [
       "<IPython.core.display.HTML object>"
      ]
     },
     "metadata": {},
     "output_type": "display_data"
    }
   ],
   "source": [
    "from IPython.core.display import display, HTML\n",
    "display(HTML(\"<style>.container { width:99% !important; }</style>\"))\n",
    "\n",
    "#Install a pip package in the current Jupyter kernel\n",
    "#import sys\n",
    "#!{sys.executable} -m pip install sympy"
   ]
  },
  {
   "cell_type": "code",
   "execution_count": 286,
   "metadata": {},
   "outputs": [
    {
     "data": {
      "text/html": [
       "<script>\n",
       "code_show=true; \n",
       "function code_toggle() {\n",
       " if (code_show){\n",
       " $('div.input').hide();\n",
       " } else {\n",
       " $('div.input').show();\n",
       " }\n",
       " code_show = !code_show\n",
       "} \n",
       "$( document ).ready(code_toggle);\n",
       "</script>The raw code for this Python notebook is by default hidden for easier reading.\n",
       "To toggle on/off the raw code, click <a href=\"javascript:code_toggle()\">here</a>."
      ],
      "text/plain": [
       "<IPython.core.display.HTML object>"
      ]
     },
     "execution_count": 286,
     "metadata": {},
     "output_type": "execute_result"
    }
   ],
   "source": [
    "from IPython.display import HTML\n",
    "HTML('''<script>\n",
    "code_show=true; \n",
    "function code_toggle() {\n",
    " if (code_show){\n",
    " $('div.input').hide();\n",
    " } else {\n",
    " $('div.input').show();\n",
    " }\n",
    " code_show = !code_show\n",
    "} \n",
    "$( document ).ready(code_toggle);\n",
    "</script>The raw code for this Python notebook is by default hidden for easier reading.\n",
    "To toggle on/off the raw code, click <a href=\"javascript:code_toggle()\">here</a>.''')"
   ]
  },
  {
   "cell_type": "code",
   "execution_count": 287,
   "metadata": {},
   "outputs": [],
   "source": [
    "import numpy as np\n",
    "import matplotlib.pyplot as plt\n",
    "import math\n",
    "import ipywidgets as widgets\n",
    "from sympy import S, symbols, printing\n",
    "import pandas as pd\n",
    "data = pd.read_csv(\"covid19.csv\")"
   ]
  },
  {
   "cell_type": "code",
   "execution_count": 288,
   "metadata": {},
   "outputs": [],
   "source": [
    "countries = pd.DataFrame(data['Country/Region'])\n",
    "countries = countries.groupby('Country/Region').count()\n",
    "countries_list = countries.index.tolist()"
   ]
  },
  {
   "cell_type": "code",
   "execution_count": 367,
   "metadata": {},
   "outputs": [
    {
     "data": {
      "application/vnd.jupyter.widget-view+json": {
       "model_id": "378cd880417f4e72a090e165c26b4689",
       "version_major": 2,
       "version_minor": 0
      },
      "text/plain": [
       "Select(description='Country', index=109, options=('Afghanistan', 'Albania', 'Algeria', 'Andorra', 'Argentina',…"
      ]
     },
     "metadata": {},
     "output_type": "display_data"
    },
    {
     "data": {
      "application/vnd.jupyter.widget-view+json": {
       "model_id": "9ca43b10a3834bc4ae85b27f4fbb40c9",
       "version_major": 2,
       "version_minor": 0
      },
      "text/plain": [
       "IntSlider(value=4, description='Degree of fit', max=8, min=1)"
      ]
     },
     "metadata": {},
     "output_type": "display_data"
    },
    {
     "data": {
      "text/html": [
       "<script> </script> <form action=\"javascript:IPython.notebook.execute_cells_below()\"><input type=\"submit\" id=\"toggleButton\" value=\"Run Analysis\"></form>"
      ],
      "text/plain": [
       "<IPython.core.display.HTML object>"
      ]
     },
     "execution_count": 367,
     "metadata": {},
     "output_type": "execute_result"
    }
   ],
   "source": [
    "if 'country_choice' not in locals():\n",
    "    country_choice = widgets.Select(\n",
    "        options = countries_list,\n",
    "        value='Afghanistan',\n",
    "        rows=15,\n",
    "        description='Country',\n",
    "        disabled=False,\n",
    "        continuous_update=True\n",
    "    )\n",
    "\n",
    "\n",
    "dof = widgets.IntSlider(\n",
    "    description = 'Degree of fit',\n",
    "    max = 8,\n",
    "    min = 1,\n",
    "    value = 4\n",
    ")\n",
    "\n",
    "    \n",
    "display(country_choice)\n",
    "\n",
    "display(dof)\n",
    "\n",
    "\n",
    "HTML('''<script> </script> <form action=\"javascript:IPython.notebook.execute_cells_below()\"><input type=\"submit\" id=\"toggleButton\" value=\"Run Analysis\"></form>''')"
   ]
  },
  {
   "cell_type": "code",
   "execution_count": 368,
   "metadata": {},
   "outputs": [],
   "source": [
    "target = country_choice.value\n",
    "target_data = data[(data['Country/Region'] == target)]"
   ]
  },
  {
   "cell_type": "code",
   "execution_count": 369,
   "metadata": {},
   "outputs": [],
   "source": [
    "target_data.drop(columns = ['Province/State', 'Lat', 'Long', 'Last_Update_Date', 'Difference'], inplace = True)\n"
   ]
  },
  {
   "cell_type": "code",
   "execution_count": 370,
   "metadata": {},
   "outputs": [],
   "source": [
    "target_confirmed = target_data[(target_data['Case_Type']== 'Confirmed')]\n",
    "target_confirmed = target_confirmed.groupby('Date').sum()\n",
    "target_confirmed = target_confirmed[(target_confirmed['Cases']> 0)]\n",
    "target_confirmed.reset_index(inplace = True)\n",
    "#target_confirmed.drop(columns = 'index', inplace = True)"
   ]
  },
  {
   "cell_type": "code",
   "execution_count": 371,
   "metadata": {},
   "outputs": [],
   "source": [
    "x = target_confirmed.index.to_numpy()\n",
    "y = target_confirmed['Cases'].to_numpy()"
   ]
  },
  {
   "cell_type": "code",
   "execution_count": 372,
   "metadata": {
    "scrolled": false
   },
   "outputs": [
    {
     "data": {
      "image/png": "[encoded data removed]",
      "text/plain": [
       "<Figure size 1440x720 with 1 Axes>"
      ]
     },
     "metadata": {
      "needs_background": "light"
     },
     "output_type": "display_data"
    }
   ],
   "source": [
    "#set degree of fit, you can alter this and just rerun this section if you want to check different degrees of fit\n",
    "degree_of_fit = dof.value\n",
    "\n",
    "# polyfit to build best fit formula\n",
    "c = np.polyfit(x,y, degree_of_fit)\n",
    "f = np.poly1d(c)\n",
    "\n",
    "# Calculate average to inform later forecasting\n",
    "x_avg = np.average(x)\n",
    "\n",
    "# Build x values for line of best fit (zero to max + half the average)\n",
    "x_new = np.linspace(0, x[-1]+(x_avg/2), 50)\n",
    "#x_new = np.linspace(0,70,50)\n",
    "\n",
    "# Build new y values from model\n",
    "y_f = f(x_new)\n",
    "\n",
    "# r-squared\n",
    "# fit values, and mean\n",
    "yhat = f(x)                      # or [p(z) for z in x]\n",
    "ybar = np.sum(y)/len(y)          # or sum(y)/len(y)\n",
    "ssreg = np.sum((yhat-ybar)**2)   # or sum([ (yihat - ybar)**2 for yihat in yhat])\n",
    "sstot = np.sum((y - ybar)**2)    # or sum([ (yi - ybar)**2 for yi in y])\n",
    "r_sq = ssreg / sstot\n",
    "\n",
    "\n",
    "plt.figure(figsize=(20,10))\n",
    "\n",
    "# plot real values\n",
    "plt.plot(x,y, 'o')\n",
    "plt.xlabel('Days')\n",
    "plt.ylabel('Cases (Confirmed)')\n",
    "\n",
    "\n",
    "# Build formula for printing on the graph\n",
    "z = symbols(\"x\")\n",
    "\n",
    "# If terms are missing, alter the formatting below to allow more decimal places\n",
    "# .            > < This one on the line below\n",
    "poly = sum(S(\"{:6.4f}\".format(v))*z**i for i, v in enumerate(c[::-1]))\n",
    "eq_latex = printing.latex(poly)\n",
    "\n",
    "# Plot the best fit line with the label being the formula and r squared\n",
    "plt.plot(x_new, y_f, label=\"${}$\".format(eq_latex) + ' | r_squared: ' + \"{:1.2f}\".format(r_sq) )\n",
    "plt.title('COVID-19 Model: ' + target.capitalize())\n",
    "\n",
    "\n",
    "plt.legend(fontsize = 'large')\n",
    "plt.show()"
   ]
  },
  {
   "cell_type": "code",
   "execution_count": null,
   "metadata": {},
   "outputs": [],
   "source": []
  }
 ],
 "metadata": {
  "kernelspec": {
   "display_name": "Python 3",
   "language": "python",
   "name": "python3"
  },
  "language_info": {
   "codemirror_mode": {
    "name": "ipython",
    "version": 3
   },
   "file_extension": ".py",
   "mimetype": "text/x-python",
   "name": "python",
   "nbconvert_exporter": "python",
   "pygments_lexer": "ipython3",
   "version": "3.7.4"
  }
 },
 "nbformat": 4,
 "nbformat_minor": 2
}
